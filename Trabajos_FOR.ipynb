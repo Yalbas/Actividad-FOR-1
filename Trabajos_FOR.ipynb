{
  "nbformat": 4,
  "nbformat_minor": 0,
  "metadata": {
    "colab": {
      "provenance": [],
      "authorship_tag": "ABX9TyMrHvoJqtzrMTG9ZYlGEbYs",
      "include_colab_link": true
    },
    "kernelspec": {
      "name": "python3",
      "display_name": "Python 3"
    },
    "language_info": {
      "name": "python"
    }
  },
  "cells": [
    {
      "cell_type": "markdown",
      "metadata": {
        "id": "view-in-github",
        "colab_type": "text"
      },
      "source": [
        "<a href=\"https://colab.research.google.com/github/Yalbas/Actividad-FOR-1/blob/main/Trabajos_FOR.ipynb\" target=\"_parent\"><img src=\"https://colab.research.google.com/assets/colab-badge.svg\" alt=\"Open In Colab\"/></a>"
      ]
    },
    {
      "cell_type": "code",
      "execution_count": null,
      "metadata": {
        "id": "siELbe7gIIZi"
      },
      "outputs": [],
      "source": [
        "# Actividad #1 : Dada la siguiente lista de números [20,21,30,41,50,51,20], mostrar en pantalla solo los que no terminan en uno (1).\n",
        "\n",
        "# Input\n",
        "\n",
        "lista  = (20,21,30,41,50,51,20)\n",
        "# processing\n",
        "\n",
        "contador = 0\n",
        "for i in lista:\n",
        "  if i % 10 == 0:\n",
        "    contador += 1\n",
        "    print(i)\n",
        "if contador > 0:\n",
        "  print (\"hay % de numeros que terminan en 1\" % contador)\n",
        "else:\n",
        "  print (\"No hay numeros que terminen en 1\")"
      ]
    },
    {
      "cell_type": "code",
      "source": [
        "# Actividad #2 : Mostrar mil veces la palabra \"Programación\"\n",
        "\n",
        "# input\n",
        "\n",
        "nombre = \"Programacion\"\n",
        "i = 1\n",
        "\n",
        "# Processing\n",
        "\n",
        "while (i <=1000):\n",
        "  print (nombre)\n",
        "  i=i+1\n",
        "\n"
      ],
      "metadata": {
        "id": "Fyq679IYQOeG"
      },
      "execution_count": null,
      "outputs": []
    },
    {
      "cell_type": "code",
      "source": [
        "# Actividad #3 : Del conjunto de cadenas [\"E\", \"F\", \"M\", \"A\"] que corresponde a las iniciales de los 4 primeros meses del año,\n",
        "# mostrar el nombre completo de dichos meses.\n",
        "\n",
        "# Input\n",
        "\n",
        "lista = [\"E\", \"F\", \"M\", \"A\"]\n",
        "\n",
        "# Processing\n",
        "\n",
        "for i in lista:\n",
        "  if i == \"E\":\n",
        "    print(\"Enero\")\n",
        "  elif i == \"F\":\n",
        "    print(\"Febrero\")\n",
        "  elif i == \"M\":\n",
        "    print(\"Marzo\")\n",
        "else:\n",
        "  print(\"Abril\")"
      ],
      "metadata": {
        "id": "fBOo3s2lRzB2"
      },
      "execution_count": null,
      "outputs": []
    },
    {
      "cell_type": "code",
      "source": [
        "# Actividad #4 : Leer un texto y determinar cuántas veces dicho texto contiene cada una de las vocales en minúscula y mayúscula.\n",
        "\n",
        "# Input\n",
        "\n",
        "texto = input(\"Inserte el texto: \")\n",
        "\n",
        "# Processing\n",
        "n_vocal_a = 0\n",
        "n_vocal_A = 0\n",
        "n_vocal_e = 0\n",
        "n_vocal_E = 0\n",
        "n_vocal_i = 0\n",
        "n_vocal_I = 0\n",
        "n_vocal_o = 0\n",
        "n_vocal_O = 0\n",
        "n_vocal_u = 0\n",
        "n_vocal_U = 0\n",
        "\n",
        "for i in texto:\n",
        "  if i == \"a\":\n",
        "    n_vocal_a += 1\n",
        "  elif i == \"A\":\n",
        "    n_vocal_A += 1\n",
        "  elif i == \"e\":\n",
        "    n_vocal_e += 1\n",
        "  elif i == \"E\":\n",
        "    n_vocal_E += 1\n",
        "  elif i == \"i\":\n",
        "    n_vocal_i += 1\n",
        "  elif i == \"I\":\n",
        "    n_vocal_I += 1\n",
        "  elif i == \"o\":\n",
        "    n_vocal_o += 1\n",
        "  elif i == \"O\":\n",
        "    n_vocal_O += 1\n",
        "  elif i == \"u\":\n",
        "    n_vocal_u += 1\n",
        "  elif i == \"U\":\n",
        "    n_vocal_U += 1\n",
        "# output\n",
        "\n",
        "print(\"La cantidad de 'a' en su texto fue \",n_vocal_a,)\n",
        "print(\"La cantidad de 'A' en su texto fue \",n_vocal_A,)\n",
        "print(\"La cantidad de 'e' en su texto fue \",n_vocal_e,)\n",
        "print(\"La cantidad de 'E' en su texto fue \",n_vocal_E,)\n",
        "print(\"La cantidad de 'i' en su texto fue \",n_vocal_i,)\n",
        "print(\"La cantidad de 'I' en su texto fue \",n_vocal_I,)\n",
        "print(\"La cantidad de 'o' en su texto fue \",n_vocal_o,)\n",
        "print(\"La cantidad de 'O' en su texto fue \",n_vocal_O,)\n",
        "print(\"La cantidad de 'u' en su texto fue \",n_vocal_u,)\n",
        "print(\"La cantidad de 'U' en su texto fue \",n_vocal_U,)"
      ],
      "metadata": {
        "id": "5aI6nEFBUWXR"
      },
      "execution_count": null,
      "outputs": []
    },
    {
      "cell_type": "markdown",
      "source": [
        "## Explicacion de for\n",
        "\n",
        "En un diagrama de flujo, la instrucción repetitiva for se representa típicamente con un símbolo de inicio que indica el inicio del bucle, seguido por una flecha que conecta con un rombo que contiene la condición de iteración. Dentro del rombo, se especifica la condición que determina cuándo termina el bucle. Luego, se sigue con una línea de salida que indica la continuación del flujo del programa después de que el bucle haya terminado."
      ],
      "metadata": {
        "id": "ZJo0YYi-izfm"
      }
    },
    {
      "cell_type": "code",
      "source": [],
      "metadata": {
        "id": "ZKvA39c-i4Ur"
      },
      "execution_count": null,
      "outputs": []
    }
  ]
}